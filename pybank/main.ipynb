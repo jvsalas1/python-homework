{
 "cells": [
  {
   "cell_type": "code",
   "execution_count": null,
   "id": "96169fb6-39f6-43e7-9ab5-d5a4e8b432fc",
   "metadata": {
    "tags": []
   },
   "outputs": [],
   "source": []
  },
  {
   "cell_type": "code",
   "execution_count": null,
   "id": "591bf268-b4c9-467c-b27c-aa6986684a3f",
   "metadata": {
    "tags": []
   },
   "outputs": [],
   "source": [
    "# Tasked with creating a Python script that analyzes the records to calculate each of the following:"
   ]
  },
  {
   "cell_type": "code",
   "execution_count": null,
   "id": "f725b4de-040b-45c4-a439-dd391629ca14",
   "metadata": {
    "tags": []
   },
   "outputs": [],
   "source": [
    "# The total number of months included in the dataset."
   ]
  },
  {
   "cell_type": "code",
   "execution_count": null,
   "id": "5b23c497-bbc4-4717-8e19-ce7de860295e",
   "metadata": {
    "tags": []
   },
   "outputs": [],
   "source": [
    "# The net total amount of Profit/Losses over the entire period."
   ]
  },
  {
   "cell_type": "code",
   "execution_count": null,
   "id": "5917e62a-e47c-4702-aec0-eab67595db6e",
   "metadata": {
    "tags": []
   },
   "outputs": [],
   "source": [
    "# The average of the changes in Profit/Losses over the entire period."
   ]
  },
  {
   "cell_type": "code",
   "execution_count": null,
   "id": "692d69d1-2a73-4b0c-8017-f18ac1a19cdc",
   "metadata": {
    "tags": []
   },
   "outputs": [],
   "source": [
    "# The greatest increase in profits (date and amount) over the entire period."
   ]
  },
  {
   "cell_type": "code",
   "execution_count": null,
   "id": "3c7bf239-b02a-447c-8d8c-eec479aa7db1",
   "metadata": {
    "tags": []
   },
   "outputs": [],
   "source": [
    "# The greatest decrease in losses (date and amount) over the entire period."
   ]
  }
 ],
 "metadata": {
  "kernelspec": {
   "display_name": "Python 3 (ipykernel)",
   "language": "python",
   "name": "python3"
  },
  "language_info": {
   "codemirror_mode": {
    "name": "ipython",
    "version": 3
   },
   "file_extension": ".py",
   "mimetype": "text/x-python",
   "name": "python",
   "nbconvert_exporter": "python",
   "pygments_lexer": "ipython3",
   "version": "3.10.11"
  }
 },
 "nbformat": 4,
 "nbformat_minor": 5
}
